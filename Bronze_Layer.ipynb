{
 "cells": [
  {
   "cell_type": "code",
   "execution_count": null,
   "metadata": {
    "application/vnd.databricks.v1+cell": {
     "cellMetadata": {
      "byteLimit": 2048000,
      "rowLimit": 10000
     },
     "inputWidgets": {},
     "nuid": "ee2dd196-34d3-435b-9894-0b9a2129cbbc",
     "showTitle": false,
     "title": ""
    }
   },
   "outputs": [
    {
     "data": {
      "text/plain": [
       "True"
      ]
     },
     "execution_count": 8,
     "metadata": {},
     "output_type": "execute_result"
    }
   ],
   "source": [
    "\n",
    "configs = {\"fs.azure.account.auth.type\": \"OAuth\",\n",
    "\"fs.azure.account.oauth.provider.type\": \"org.apache.hadoop.fs.azurebfs.oauth2.ClientCredsTokenProvider\",\n",
    "\"fs.azure.account.oauth2.client.id\": \" \",\n",
    "\"fs.azure.account.oauth2.client.secret\": '',\n",
    "\"fs.azure.account.oauth2.client.endpoint\": \"https://login.microsoftonline.com/2tenant-id/oauth2/token\"}\n",
    "\n",
    "\n",
    "dbutils.fs.mount(\n",
    "source = \"abfss://landing-zone-2@ecomadlsns.dfs.core.windows.net\", # contrainer@storageacc\n",
    "mount_point = \"/mnt/ecom\",\n",
    "extra_configs = configs)"
   ]
  },
  {
   "cell_type": "code",
   "execution_count": null,
   "metadata": {
    "application/vnd.databricks.v1+cell": {
     "cellMetadata": {
      "byteLimit": 2048000,
      "rowLimit": 10000
     },
     "inputWidgets": {},
     "nuid": "d93cf9a6-9a54-4356-b747-8f4a07764c08",
     "showTitle": false,
     "title": ""
    }
   },
   "outputs": [
    {
     "data": {
      "text/html": [
       "<style scoped>\n",
       "  .table-result-container {\n",
       "    max-height: 300px;\n",
       "    overflow: auto;\n",
       "  }\n",
       "  table, th, td {\n",
       "    border: 1px solid black;\n",
       "    border-collapse: collapse;\n",
       "  }\n",
       "  th, td {\n",
       "    padding: 5px;\n",
       "  }\n",
       "  th {\n",
       "    text-align: left;\n",
       "  }\n",
       "</style><div class='table-result-container'><table class='table-result'><thead style='background-color: white'><tr><th>path</th><th>name</th><th>size</th><th>modificationTime</th></tr></thead><tbody><tr><td>dbfs:/mnt/ecom/buyers-raw-2/</td><td>buyers-raw-2/</td><td>0</td><td>1712791747000</td></tr><tr><td>dbfs:/mnt/ecom/countries-raw-2/</td><td>countries-raw-2/</td><td>0</td><td>1712791779000</td></tr><tr><td>dbfs:/mnt/ecom/sellers-raw-2/</td><td>sellers-raw-2/</td><td>0</td><td>1712791757000</td></tr><tr><td>dbfs:/mnt/ecom/users-raw-2/</td><td>users-raw-2/</td><td>0</td><td>1712791769000</td></tr></tbody></table></div>"
      ]
     },
     "metadata": {
      "application/vnd.databricks.v1+output": {
       "addedWidgets": {},
       "aggData": [],
       "aggError": "",
       "aggOverflow": false,
       "aggSchema": [],
       "aggSeriesLimitReached": false,
       "aggType": "",
       "arguments": {},
       "columnCustomDisplayInfos": {},
       "data": [
        [
         "dbfs:/mnt/ecom/buyers-raw-2/",
         "buyers-raw-2/",
         0,
         1712791747000
        ],
        [
         "dbfs:/mnt/ecom/countries-raw-2/",
         "countries-raw-2/",
         0,
         1712791779000
        ],
        [
         "dbfs:/mnt/ecom/sellers-raw-2/",
         "sellers-raw-2/",
         0,
         1712791757000
        ],
        [
         "dbfs:/mnt/ecom/users-raw-2/",
         "users-raw-2/",
         0,
         1712791769000
        ]
       ],
       "datasetInfos": [],
       "dbfsResultPath": null,
       "isJsonSchema": true,
       "metadata": {
        "isDbfsCommandResult": false
       },
       "overflow": false,
       "plotOptions": {
        "customPlotOptions": {},
        "displayType": "table",
        "pivotAggregation": null,
        "pivotColumns": null,
        "xColumns": null,
        "yColumns": null
       },
       "removedWidgets": [],
       "schema": [
        {
         "metadata": "{}",
         "name": "path",
         "type": "\"string\""
        },
        {
         "metadata": "{}",
         "name": "name",
         "type": "\"string\""
        },
        {
         "metadata": "{}",
         "name": "size",
         "type": "\"long\""
        },
        {
         "metadata": "{}",
         "name": "modificationTime",
         "type": "\"long\""
        }
       ],
       "type": "table"
      }
     },
     "output_type": "display_data"
    }
   ],
   "source": [
    "%fs ls '/mnt/ecom/'"
   ]
  },
  {
   "cell_type": "code",
   "execution_count": null,
   "metadata": {
    "application/vnd.databricks.v1+cell": {
     "cellMetadata": {
      "byteLimit": 2048000,
      "rowLimit": 10000
     },
     "inputWidgets": {},
     "nuid": "8c27e861-63a0-44c1-9a02-096196b79015",
     "showTitle": false,
     "title": ""
    }
   },
   "outputs": [
    {
     "data": {
      "text/html": [
       "<style scoped>\n",
       "  .table-result-container {\n",
       "    max-height: 300px;\n",
       "    overflow: auto;\n",
       "  }\n",
       "  table, th, td {\n",
       "    border: 1px solid black;\n",
       "    border-collapse: collapse;\n",
       "  }\n",
       "  th, td {\n",
       "    padding: 5px;\n",
       "  }\n",
       "  th {\n",
       "    text-align: left;\n",
       "  }\n",
       "</style><div class='table-result-container'><table class='table-result'><thead style='background-color: white'><tr><th>path</th><th>name</th><th>size</th><th>modificationTime</th></tr></thead><tbody><tr><td>dbfs:/mnt/ecom/buyers-raw-2/Buyers-repartition-by-country.parquet</td><td>Buyers-repartition-by-country.parquet</td><td>12018</td><td>1713031741000</td></tr></tbody></table></div>"
      ]
     },
     "metadata": {
      "application/vnd.databricks.v1+output": {
       "addedWidgets": {},
       "aggData": [],
       "aggError": "",
       "aggOverflow": false,
       "aggSchema": [],
       "aggSeriesLimitReached": false,
       "aggType": "",
       "arguments": {},
       "columnCustomDisplayInfos": {},
       "data": [
        [
         "dbfs:/mnt/ecom/buyers-raw-2/Buyers-repartition-by-country.parquet",
         "Buyers-repartition-by-country.parquet",
         12018,
         1713031741000
        ]
       ],
       "datasetInfos": [],
       "dbfsResultPath": null,
       "isJsonSchema": true,
       "metadata": {
        "isDbfsCommandResult": false
       },
       "overflow": false,
       "plotOptions": {
        "customPlotOptions": {},
        "displayType": "table",
        "pivotAggregation": null,
        "pivotColumns": null,
        "xColumns": null,
        "yColumns": null
       },
       "removedWidgets": [],
       "schema": [
        {
         "metadata": "{}",
         "name": "path",
         "type": "\"string\""
        },
        {
         "metadata": "{}",
         "name": "name",
         "type": "\"string\""
        },
        {
         "metadata": "{}",
         "name": "size",
         "type": "\"long\""
        },
        {
         "metadata": "{}",
         "name": "modificationTime",
         "type": "\"long\""
        }
       ],
       "type": "table"
      }
     },
     "output_type": "display_data"
    }
   ],
   "source": [
    "%fs ls '/mnt/ecom/buyers-raw-2/'"
   ]
  },
  {
   "cell_type": "code",
   "execution_count": null,
   "metadata": {
    "application/vnd.databricks.v1+cell": {
     "cellMetadata": {
      "byteLimit": 2048000,
      "rowLimit": 10000
     },
     "inputWidgets": {},
     "nuid": "a06235db-50ca-4067-979a-329381a8df7d",
     "showTitle": false,
     "title": ""
    }
   },
   "outputs": [],
   "source": [
    "from pyspark.sql import SparkSession\n",
    "from pyspark.sql.functions import *\n",
    "from pyspark.sql.types import *"
   ]
  },
  {
   "cell_type": "code",
   "execution_count": null,
   "metadata": {
    "application/vnd.databricks.v1+cell": {
     "cellMetadata": {
      "byteLimit": 2048000,
      "rowLimit": 10000
     },
     "inputWidgets": {},
     "nuid": "56451aa0-b1a6-46e1-bff8-3888e3bf7cd2",
     "showTitle": false,
     "title": ""
    }
   },
   "outputs": [],
   "source": [
    "spark = SparkSession.builder.appName(\"EcomDataPipeline\").getOrCreate()"
   ]
  },
  {
   "cell_type": "code",
   "execution_count": null,
   "metadata": {
    "application/vnd.databricks.v1+cell": {
     "cellMetadata": {
      "byteLimit": 2048000,
      "rowLimit": 10000
     },
     "inputWidgets": {},
     "nuid": "9fe7174b-8e52-4c35-bf27-6c2dc4236580",
     "showTitle": false,
     "title": ""
    }
   },
   "outputs": [
    {
     "data": {
      "text/html": [
       "\n",
       "            <div>\n",
       "                <p><b>SparkSession - hive</b></p>\n",
       "                \n",
       "        <div>\n",
       "            <p><b>SparkContext</b></p>\n",
       "\n",
       "            <p><a href=\"/?o=148305941218621#setting/sparkui/0413-182220-tvc248vz/driver-5926224280951751552\">Spark UI</a></p>\n",
       "\n",
       "            <dl>\n",
       "              <dt>Version</dt>\n",
       "                <dd><code>v3.4.1</code></dd>\n",
       "              <dt>Master</dt>\n",
       "                <dd><code>local[*, 4]</code></dd>\n",
       "              <dt>AppName</dt>\n",
       "                <dd><code>Databricks Shell</code></dd>\n",
       "            </dl>\n",
       "        </div>\n",
       "        \n",
       "            </div>\n",
       "        "
      ],
      "text/plain": [
       "<pyspark.sql.session.SparkSession at 0x7f441b6cfc40>"
      ]
     },
     "execution_count": 12,
     "metadata": {},
     "output_type": "execute_result"
    }
   ],
   "source": [
    "spark"
   ]
  },
  {
   "cell_type": "code",
   "execution_count": null,
   "metadata": {
    "application/vnd.databricks.v1+cell": {
     "cellMetadata": {
      "byteLimit": 2048000,
      "rowLimit": 10000
     },
     "inputWidgets": {},
     "nuid": "6ecc8b9c-029a-4a33-aa28-b09368a3134c",
     "showTitle": false,
     "title": ""
    }
   },
   "outputs": [],
   "source": [
    "# Read parquet file from /mnt/ecomdata1/user-raw-2 folder\n",
    "userDF = spark.read.format(\"parquet\")\\\n",
    "    .option(\"header\",'true')\\\n",
    "    .option(\"inferSchema\",'true')\\\n",
    "    .load(\"/mnt/ecomdata1/users-raw-2\")"
   ]
  },
  {
   "cell_type": "code",
   "execution_count": null,
   "metadata": {
    "application/vnd.databricks.v1+cell": {
     "cellMetadata": {
      "byteLimit": 2048000,
      "rowLimit": 10000
     },
     "inputWidgets": {},
     "nuid": "a9a12839-5e1c-403c-b97e-10353430e172",
     "showTitle": false,
     "title": ""
    }
   },
   "outputs": [
    {
     "name": "stdout",
     "output_type": "stream",
     "text": [
      "+--------------+----+-----------+-----------+--------+-----------------+---------------+-------------------+--------------+------------+----------------+--------------+--------------+------+----------------+-------------+-----------------+---------+-----------------+----------------+----------------+\n",
      "|identifierHash|type|countryCode|    country|language|socialNbFollowers|socialNbFollows|socialProductsLiked|productsListed|productsSold|productsPassRate|productsWished|productsBought|gender|civilityGenderId|civilityTitle|hasProfilePicture|seniority|seniorityAsMonths|seniorityAsYears|websiteLongevity|\n",
      "+--------------+----+-----------+-----------+--------+-----------------+---------------+-------------------+--------------+------------+----------------+--------------+--------------+------+----------------+-------------+-----------------+---------+-----------------+----------------+----------------+\n",
      "|    1920991140|user|         us| Etats-Unis|      en|                3|              8|                  0|             0|           0|             0.0|             0|             0|     M|               1|           mr|             True|     3206|           106.87|            8.91|            3803|\n",
      "|    1920860068|user|         se|      Suède|      en|                3|              8|                  1|             0|           0|             0.0|             0|             0|     M|               1|           mr|             True|     3206|           106.87|            8.91|            3803|\n",
      "|    1920401316|user|         it|     Italie|      fr|                3|              8|                  0|             0|           0|             0.0|             0|             0|     M|               1|           mr|             True|     3206|           106.87|            8.91|            3803|\n",
      "|    1919811492|user|         dk|   Danemark|      en|               75|             10|               1968|             0|           0|             0.0|            43|            15|     M|               1|           mr|             True|     3206|           106.87|            8.91|            3803|\n",
      "|    1919025060|user|         de|  Allemagne|      de|                3|              8|                  0|             0|           0|             0.0|             0|             0|     M|               1|           mr|             True|     3206|           106.87|            8.91|            3803|\n",
      "|    1918697380|user|         it|     Italie|      it|                3|              8|                  0|             0|           0|             0.0|             0|             0|     M|               1|           mr|             True|     3206|           106.87|            8.91|            3803|\n",
      "|    1918042020|user|         dk|   Danemark|      en|                3|              8|                  3|             0|           0|             0.0|             1|             0|     M|               1|           mr|             True|     3206|           106.87|            8.91|            3803|\n",
      "|    1917845412|user|         fr|     France|      fr|               35|              8|                 24|             0|           1|             0.0|             8|             3|     M|               1|           mr|            False|     3206|           106.87|            8.91|            3803|\n",
      "|    1916338084|user|         fr|     France|      en|                3|              8|                  0|             0|           0|             0.0|             0|             0|     M|               1|           mr|             True|     3206|           106.87|            8.91|            3803|\n",
      "|    1916207012|user|         fr|     France|      en|                3|              8|                  0|             0|           0|             0.0|             0|             0|     M|               1|           mr|             True|     3206|           106.87|            8.91|            3803|\n",
      "|    1915682724|user|         fr|     France|      fr|               11|              9|                 21|             0|           2|           100.0|             2|             2|     M|               1|           mr|             True|     3206|           106.87|            8.91|            3803|\n",
      "|    1914961828|user|         fr|     France|      fr|                4|              8|                 41|             0|           0|             0.0|             0|             0|     M|               1|           mr|             True|     3206|           106.87|            8.91|            3803|\n",
      "|    1914634148|user|         ca|     Canada|      en|                4|             10|                  5|             0|           0|             0.0|             7|             2|     M|               1|           mr|             True|     3206|           106.87|            8.91|            3803|\n",
      "|    1914437540|user|         de|  Allemagne|      de|                3|              8|                 31|             0|           0|             0.0|             0|             0|     M|               1|           mr|             True|     3206|           106.87|            8.91|            3803|\n",
      "|    1914175396|user|         gb|Royaume-Uni|      en|                7|              8|                 22|             0|           0|             0.0|            15|             5|     M|               1|           mr|             True|     3206|           106.87|            8.91|            3803|\n",
      "|    1913913252|user|         us| Etats-Unis|      en|                3|              8|                  4|             0|           0|             0.0|             3|             0|     M|               1|           mr|             True|     3206|           106.87|            8.91|            3803|\n",
      "|    1913782180|user|         us| Etats-Unis|      en|                5|              8|                 74|             0|           1|             0.0|             7|             0|     M|               1|           mr|             True|     3206|           106.87|            8.91|            3803|\n",
      "|    1913520036|user|         au|  Australie|      en|                3|              8|                  1|             0|           0|             0.0|             0|             0|     M|               1|           mr|             True|     3206|           106.87|            8.91|            3803|\n",
      "|    1913454500|user|         us| Etats-Unis|      en|                3|              8|                 16|             0|           0|             0.0|             0|             1|     M|               1|           mr|             True|     3206|           106.87|            8.91|            3803|\n",
      "|    1912864676|user|         us| Etats-Unis|      en|                4|              8|                  0|             0|           0|             0.0|             0|             0|     M|               1|           mr|             True|     3206|           106.87|            8.91|            3803|\n",
      "+--------------+----+-----------+-----------+--------+-----------------+---------------+-------------------+--------------+------------+----------------+--------------+--------------+------+----------------+-------------+-----------------+---------+-----------------+----------------+----------------+\n",
      "only showing top 20 rows\n",
      "\n"
     ]
    }
   ],
   "source": [
    "userDF.show()"
   ]
  },
  {
   "cell_type": "code",
   "execution_count": null,
   "metadata": {
    "application/vnd.databricks.v1+cell": {
     "cellMetadata": {
      "byteLimit": 2048000,
      "rowLimit": 10000
     },
     "inputWidgets": {},
     "nuid": "470447a7-19c4-421d-bba0-aad0ec4f10eb",
     "showTitle": false,
     "title": ""
    }
   },
   "outputs": [],
   "source": [
    "userDF.write.format(\"delta\")\\\n",
    "    .mode(\"overwrite\")\\\n",
    "    .save(\"/mnt/delta/tables/bronze/users\")"
   ]
  },
  {
   "cell_type": "code",
   "execution_count": null,
   "metadata": {
    "application/vnd.databricks.v1+cell": {
     "cellMetadata": {
      "byteLimit": 2048000,
      "rowLimit": 10000
     },
     "inputWidgets": {},
     "nuid": "4ffaa2cd-d469-4725-9b5b-b6591f50bb5e",
     "showTitle": false,
     "title": ""
    }
   },
   "outputs": [],
   "source": [
    "buyersDF=spark.read.format(\"parquet\")\\\n",
    "    .option(\"Header\",'true')\\\n",
    "    .option(\"InferSchema\",'true')\\\n",
    "    .load(\"/mnt/ecom/buyers-raw-2\")"
   ]
  },
  {
   "cell_type": "code",
   "execution_count": null,
   "metadata": {
    "application/vnd.databricks.v1+cell": {
     "cellMetadata": {
      "byteLimit": 2048000,
      "rowLimit": 10000
     },
     "inputWidgets": {},
     "nuid": "e1a4bb9e-485f-4a99-a027-8e82ce1f2022",
     "showTitle": false,
     "title": ""
    }
   },
   "outputs": [],
   "source": [
    "buyersDF.write.format(\"Delta\")\\\n",
    "    .mode(\"overwrite\")\\\n",
    "    .save(\"/mnt/delta/tables/bronze/buyers\")"
   ]
  },
  {
   "cell_type": "code",
   "execution_count": null,
   "metadata": {
    "application/vnd.databricks.v1+cell": {
     "cellMetadata": {
      "byteLimit": 2048000,
      "rowLimit": 10000
     },
     "inputWidgets": {},
     "nuid": "21ae1ad3-a800-4797-bf51-91039acf6cda",
     "showTitle": false,
     "title": ""
    }
   },
   "outputs": [],
   "source": [
    "countriesDF=spark.read.format(\"parquet\")\\\n",
    "    .option(\"Header\",'true')\\\n",
    "    .option(\"InferSchema\",'true')\\\n",
    "    .load(\"/mnt/ecom/countries-raw-2\")"
   ]
  },
  {
   "cell_type": "code",
   "execution_count": null,
   "metadata": {
    "application/vnd.databricks.v1+cell": {
     "cellMetadata": {
      "byteLimit": 2048000,
      "rowLimit": 10000
     },
     "inputWidgets": {},
     "nuid": "9e363c34-4773-4b86-9389-c8706c930b1a",
     "showTitle": false,
     "title": ""
    }
   },
   "outputs": [],
   "source": [
    "countriesDF.write.format(\"Delta\")\\\n",
    "    .mode(\"overwrite\")\\\n",
    "    .save(\"/mnt/delta/tables/bronze/countires\")"
   ]
  },
  {
   "cell_type": "code",
   "execution_count": null,
   "metadata": {
    "application/vnd.databricks.v1+cell": {
     "cellMetadata": {
      "byteLimit": 2048000,
      "rowLimit": 10000
     },
     "inputWidgets": {},
     "nuid": "b2478403-c5f0-4ea6-948b-368ba6ca155b",
     "showTitle": false,
     "title": ""
    }
   },
   "outputs": [],
   "source": [
    "sellersDF=spark.read.format(\"parquet\")\\\n",
    "    .option(\"Header\",'true')\\\n",
    "    .option(\"InferSchema\",'true')\\\n",
    "    .load(\"/mnt/ecom/sellers-raw-2\")"
   ]
  },
  {
   "cell_type": "code",
   "execution_count": null,
   "metadata": {
    "application/vnd.databricks.v1+cell": {
     "cellMetadata": {
      "byteLimit": 2048000,
      "rowLimit": 10000
     },
     "inputWidgets": {},
     "nuid": "44036892-5578-4ddb-abab-1da49cefaf3f",
     "showTitle": false,
     "title": ""
    }
   },
   "outputs": [],
   "source": [
    "sellersDF.write.format(\"Delta\")\\\n",
    "    .mode(\"overwrite\")\\\n",
    "    .save(\"/mnt/delta/tables/bronze/sellers\")"
   ]
  },
  {
   "cell_type": "code",
   "execution_count": null,
   "metadata": {
    "application/vnd.databricks.v1+cell": {
     "cellMetadata": {
      "byteLimit": 2048000,
      "rowLimit": 10000
     },
     "inputWidgets": {},
     "nuid": "5b1d6d18-7ff8-447f-b183-cbcd39a16878",
     "showTitle": false,
     "title": ""
    }
   },
   "outputs": [
    {
     "name": "stdout",
     "output_type": "stream",
     "text": [
      "+---------+------+---------+----------------+------------------+------------------+-----------------+-------------------+------------------+------------------+-----------------+-----------+-----------+------------------+-------------+-----------+-----------------+-----------------+------------------+\n",
      "|  country|   sex|nbsellers|meanproductssold|meanproductslisted|meansellerpassrate|totalproductssold|totalproductslisted|meanproductsbought|meanproductswished|meanproductsliked|totalbought|totalwished|totalproductsliked|meanfollowers|meanfollows|percentofappusers|percentofiosusers|     meanseniority|\n",
      "+---------+------+---------+----------------+------------------+------------------+-----------------+-------------------+------------------+------------------+-----------------+-----------+-----------+------------------+-------------+-----------+-----------------+-----------------+------------------+\n",
      "|Allemagne|Female|      116|            4.03|              2.72|             27.33|              468|                315|              3.05|             34.66|            35.28|        354|       4021|              4092|          9.5|        8.9|             54.0|             49.0|3060.3362068965516|\n",
      "|Allemagne|  Male|       34|             2.0|               1.0|             19.15|               68|                 34|              1.62|              3.38|            31.79|         55|        115|              1081|          7.8|        8.4|             79.0|             64.0|3089.0588235294117|\n",
      "|  Arménie|Female|        1|             0.0|              25.0|               0.0|                0|                 25|               0.0|               0.0|              1.0|          0|          0|                 1|          4.0|        8.0|             NULL|             NULL|            3201.0|\n",
      "|Australie|Female|       18|            0.94|              1.33|             10.44|               17|                 24|              6.11|             17.72|           209.28|        110|        319|              3767|          7.5|        9.3|             55.0|             55.0|3103.6666666666665|\n",
      "|Australie|  Male|        3|             6.0|               4.0|             33.33|               18|                 12|               8.0|              24.0|            38.33|         24|         72|               115|         12.7|        8.3|             66.0|             66.0|3085.6666666666665|\n",
      "+---------+------+---------+----------------+------------------+------------------+-----------------+-------------------+------------------+------------------+-----------------+-----------+-----------+------------------+-------------+-----------+-----------------+-----------------+------------------+\n",
      "only showing top 5 rows\n",
      "\n"
     ]
    }
   ],
   "source": [
    "sellersDF.show(5)"
   ]
  }
 ],
 "metadata": {
  "application/vnd.databricks.v1+notebook": {
   "dashboards": [],
   "language": "python",
   "notebookMetadata": {
    "mostRecentlyExecutedCommandWithImplicitDF": {
     "commandId": 2100453111970819,
     "dataframes": [
      "_sqldf"
     ]
    },
    "pythonIndentUnit": 4
   },
   "notebookName": "Bronze_Layer",
   "widgets": {}
  },
  "language_info": {
   "name": "python"
  }
 },
 "nbformat": 4,
 "nbformat_minor": 0
}
