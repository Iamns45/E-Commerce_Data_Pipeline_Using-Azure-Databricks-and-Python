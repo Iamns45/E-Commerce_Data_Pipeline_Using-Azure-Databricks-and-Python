{
 "cells": [
  {
   "cell_type": "code",
   "execution_count": 0,
   "metadata": {
    "application/vnd.databricks.v1+cell": {
     "cellMetadata": {
      "byteLimit": 2048000,
      "rowLimit": 10000
     },
     "inputWidgets": {},
     "nuid": "e0e181e6-4f1b-49ca-aa27-4d768cad79d3",
     "showTitle": false,
     "title": ""
    }
   },
   "outputs": [],
   "source": [
    "from pyspark.sql import SparkSession\n",
    "from pyspark.sql.functions import *\n",
    "from pyspark.sql.types import *"
   ]
  },
  {
   "cell_type": "code",
   "execution_count": 0,
   "metadata": {
    "application/vnd.databricks.v1+cell": {
     "cellMetadata": {
      "byteLimit": 2048000,
      "rowLimit": 10000
     },
     "inputWidgets": {},
     "nuid": "3e9537e2-aa08-4935-b414-d7cf4ba1ad5f",
     "showTitle": false,
     "title": ""
    }
   },
   "outputs": [],
   "source": [
    "spark = SparkSession.builder.appName(\"EcomDatPipeline\").getOrCreate()"
   ]
  },
  {
   "cell_type": "code",
   "execution_count": 0,
   "metadata": {
    "application/vnd.databricks.v1+cell": {
     "cellMetadata": {
      "byteLimit": 2048000,
      "rowLimit": 10000
     },
     "inputWidgets": {},
     "nuid": "f17f4524-82fe-4d64-a285-8e9a9e5bc08e",
     "showTitle": false,
     "title": ""
    }
   },
   "outputs": [],
   "source": [
    "userDF = spark.read.format(\"Delta\").load(\"/mnt/delta/tables/bronze/users\")"
   ]
  },
  {
   "cell_type": "code",
   "execution_count": 0,
   "metadata": {
    "application/vnd.databricks.v1+cell": {
     "cellMetadata": {
      "byteLimit": 2048000,
      "rowLimit": 10000
     },
     "inputWidgets": {},
     "nuid": "1c8169c1-63cd-4239-b9ee-870340ff23cb",
     "showTitle": false,
     "title": ""
    }
   },
   "outputs": [
    {
     "output_type": "stream",
     "name": "stdout",
     "output_type": "stream",
     "text": [
      "+--------------+----+-----------+-----------+--------+-----------------+---------------+-------------------+--------------+------------+----------------+--------------+--------------+------+----------------+-------------+-----------------+---------+-----------------+----------------+----------------+\n|identifierHash|type|countryCode|    country|language|socialNbFollowers|socialNbFollows|socialProductsLiked|productsListed|productsSold|productsPassRate|productsWished|productsBought|gender|civilityGenderId|civilityTitle|hasProfilePicture|seniority|seniorityAsMonths|seniorityAsYears|websiteLongevity|\n+--------------+----+-----------+-----------+--------+-----------------+---------------+-------------------+--------------+------------+----------------+--------------+--------------+------+----------------+-------------+-----------------+---------+-----------------+----------------+----------------+\n|    1920991140|user|         us| Etats-Unis|      en|                3|              8|                  0|             0|           0|             0.0|             0|             0|     M|               1|           mr|             True|     3206|           106.87|            8.91|            3803|\n|    1920860068|user|         se|      Suède|      en|                3|              8|                  1|             0|           0|             0.0|             0|             0|     M|               1|           mr|             True|     3206|           106.87|            8.91|            3803|\n|    1920401316|user|         it|     Italie|      fr|                3|              8|                  0|             0|           0|             0.0|             0|             0|     M|               1|           mr|             True|     3206|           106.87|            8.91|            3803|\n|    1919811492|user|         dk|   Danemark|      en|               75|             10|               1968|             0|           0|             0.0|            43|            15|     M|               1|           mr|             True|     3206|           106.87|            8.91|            3803|\n|    1919025060|user|         de|  Allemagne|      de|                3|              8|                  0|             0|           0|             0.0|             0|             0|     M|               1|           mr|             True|     3206|           106.87|            8.91|            3803|\n|    1918697380|user|         it|     Italie|      it|                3|              8|                  0|             0|           0|             0.0|             0|             0|     M|               1|           mr|             True|     3206|           106.87|            8.91|            3803|\n|    1918042020|user|         dk|   Danemark|      en|                3|              8|                  3|             0|           0|             0.0|             1|             0|     M|               1|           mr|             True|     3206|           106.87|            8.91|            3803|\n|    1917845412|user|         fr|     France|      fr|               35|              8|                 24|             0|           1|             0.0|             8|             3|     M|               1|           mr|            False|     3206|           106.87|            8.91|            3803|\n|    1916338084|user|         fr|     France|      en|                3|              8|                  0|             0|           0|             0.0|             0|             0|     M|               1|           mr|             True|     3206|           106.87|            8.91|            3803|\n|    1916207012|user|         fr|     France|      en|                3|              8|                  0|             0|           0|             0.0|             0|             0|     M|               1|           mr|             True|     3206|           106.87|            8.91|            3803|\n|    1915682724|user|         fr|     France|      fr|               11|              9|                 21|             0|           2|           100.0|             2|             2|     M|               1|           mr|             True|     3206|           106.87|            8.91|            3803|\n|    1914961828|user|         fr|     France|      fr|                4|              8|                 41|             0|           0|             0.0|             0|             0|     M|               1|           mr|             True|     3206|           106.87|            8.91|            3803|\n|    1914634148|user|         ca|     Canada|      en|                4|             10|                  5|             0|           0|             0.0|             7|             2|     M|               1|           mr|             True|     3206|           106.87|            8.91|            3803|\n|    1914437540|user|         de|  Allemagne|      de|                3|              8|                 31|             0|           0|             0.0|             0|             0|     M|               1|           mr|             True|     3206|           106.87|            8.91|            3803|\n|    1914175396|user|         gb|Royaume-Uni|      en|                7|              8|                 22|             0|           0|             0.0|            15|             5|     M|               1|           mr|             True|     3206|           106.87|            8.91|            3803|\n|    1913913252|user|         us| Etats-Unis|      en|                3|              8|                  4|             0|           0|             0.0|             3|             0|     M|               1|           mr|             True|     3206|           106.87|            8.91|            3803|\n|    1913782180|user|         us| Etats-Unis|      en|                5|              8|                 74|             0|           1|             0.0|             7|             0|     M|               1|           mr|             True|     3206|           106.87|            8.91|            3803|\n|    1913520036|user|         au|  Australie|      en|                3|              8|                  1|             0|           0|             0.0|             0|             0|     M|               1|           mr|             True|     3206|           106.87|            8.91|            3803|\n|    1913454500|user|         us| Etats-Unis|      en|                3|              8|                 16|             0|           0|             0.0|             0|             1|     M|               1|           mr|             True|     3206|           106.87|            8.91|            3803|\n|    1912864676|user|         us| Etats-Unis|      en|                4|              8|                  0|             0|           0|             0.0|             0|             0|     M|               1|           mr|             True|     3206|           106.87|            8.91|            3803|\n+--------------+----+-----------+-----------+--------+-----------------+---------------+-------------------+--------------+------------+----------------+--------------+--------------+------+----------------+-------------+-----------------+---------+-----------------+----------------+----------------+\nonly showing top 20 rows\n\n"
     ]
    }
   ],
   "source": [
    "userDF.show()"
   ]
  },
  {
   "cell_type": "code",
   "execution_count": 0,
   "metadata": {
    "application/vnd.databricks.v1+cell": {
     "cellMetadata": {
      "byteLimit": 2048000,
      "rowLimit": 10000
     },
     "inputWidgets": {},
     "nuid": "365c35a8-eec7-445c-be72-815e9e354bb7",
     "showTitle": false,
     "title": ""
    }
   },
   "outputs": [
    {
     "output_type": "stream",
     "name": "stdout",
     "output_type": "stream",
     "text": [
      "+-----------+\n|countrycode|\n+-----------+\n|         us|\n|         se|\n|         it|\n|         dk|\n|         de|\n|         it|\n|         dk|\n|         fr|\n|         fr|\n|         fr|\n|         fr|\n|         fr|\n|         ca|\n|         de|\n|         gb|\n|         us|\n|         us|\n|         au|\n|         us|\n|         us|\n+-----------+\nonly showing top 20 rows\n\n"
     ]
    }
   ],
   "source": [
    "userDF.select(col(\"countrycode\")).show()"
   ]
  },
  {
   "cell_type": "code",
   "execution_count": 0,
   "metadata": {
    "application/vnd.databricks.v1+cell": {
     "cellMetadata": {
      "byteLimit": 2048000,
      "rowLimit": 10000
     },
     "inputWidgets": {},
     "nuid": "eac6cb10-d967-47e7-ae0b-4233659d53c5",
     "showTitle": false,
     "title": ""
    }
   },
   "outputs": [
    {
     "output_type": "stream",
     "name": "stdout",
     "output_type": "stream",
     "text": [
      "+--------------+----+-----------+-----------+--------+-----------------+---------------+-------------------+--------------+------------+----------------+--------------+--------------+------+----------------+-------------+-----------------+---------+-----------------+----------------+----------------+\n|identifierHash|type|countrycode|    country|language|socialNbFollowers|socialNbFollows|socialProductsLiked|productsListed|productsSold|productsPassRate|productsWished|productsBought|gender|civilityGenderId|civilityTitle|hasProfilePicture|seniority|seniorityAsMonths|seniorityAsYears|websiteLongevity|\n+--------------+----+-----------+-----------+--------+-----------------+---------------+-------------------+--------------+------------+----------------+--------------+--------------+------+----------------+-------------+-----------------+---------+-----------------+----------------+----------------+\n|    1920991140|user|         US| Etats-Unis|      en|                3|              8|                  0|             0|           0|             0.0|             0|             0|     M|               1|           mr|             True|     3206|           106.87|            8.91|            3803|\n|    1920860068|user|         SE|      Suède|      en|                3|              8|                  1|             0|           0|             0.0|             0|             0|     M|               1|           mr|             True|     3206|           106.87|            8.91|            3803|\n|    1920401316|user|         IT|     Italie|      fr|                3|              8|                  0|             0|           0|             0.0|             0|             0|     M|               1|           mr|             True|     3206|           106.87|            8.91|            3803|\n|    1919811492|user|         DK|   Danemark|      en|               75|             10|               1968|             0|           0|             0.0|            43|            15|     M|               1|           mr|             True|     3206|           106.87|            8.91|            3803|\n|    1919025060|user|         DE|  Allemagne|      de|                3|              8|                  0|             0|           0|             0.0|             0|             0|     M|               1|           mr|             True|     3206|           106.87|            8.91|            3803|\n|    1918697380|user|         IT|     Italie|      it|                3|              8|                  0|             0|           0|             0.0|             0|             0|     M|               1|           mr|             True|     3206|           106.87|            8.91|            3803|\n|    1918042020|user|         DK|   Danemark|      en|                3|              8|                  3|             0|           0|             0.0|             1|             0|     M|               1|           mr|             True|     3206|           106.87|            8.91|            3803|\n|    1917845412|user|         FR|     France|      fr|               35|              8|                 24|             0|           1|             0.0|             8|             3|     M|               1|           mr|            False|     3206|           106.87|            8.91|            3803|\n|    1916338084|user|         FR|     France|      en|                3|              8|                  0|             0|           0|             0.0|             0|             0|     M|               1|           mr|             True|     3206|           106.87|            8.91|            3803|\n|    1916207012|user|         FR|     France|      en|                3|              8|                  0|             0|           0|             0.0|             0|             0|     M|               1|           mr|             True|     3206|           106.87|            8.91|            3803|\n|    1915682724|user|         FR|     France|      fr|               11|              9|                 21|             0|           2|           100.0|             2|             2|     M|               1|           mr|             True|     3206|           106.87|            8.91|            3803|\n|    1914961828|user|         FR|     France|      fr|                4|              8|                 41|             0|           0|             0.0|             0|             0|     M|               1|           mr|             True|     3206|           106.87|            8.91|            3803|\n|    1914634148|user|         CA|     Canada|      en|                4|             10|                  5|             0|           0|             0.0|             7|             2|     M|               1|           mr|             True|     3206|           106.87|            8.91|            3803|\n|    1914437540|user|         DE|  Allemagne|      de|                3|              8|                 31|             0|           0|             0.0|             0|             0|     M|               1|           mr|             True|     3206|           106.87|            8.91|            3803|\n|    1914175396|user|         GB|Royaume-Uni|      en|                7|              8|                 22|             0|           0|             0.0|            15|             5|     M|               1|           mr|             True|     3206|           106.87|            8.91|            3803|\n|    1913913252|user|         US| Etats-Unis|      en|                3|              8|                  4|             0|           0|             0.0|             3|             0|     M|               1|           mr|             True|     3206|           106.87|            8.91|            3803|\n|    1913782180|user|         US| Etats-Unis|      en|                5|              8|                 74|             0|           1|             0.0|             7|             0|     M|               1|           mr|             True|     3206|           106.87|            8.91|            3803|\n|    1913520036|user|         AU|  Australie|      en|                3|              8|                  1|             0|           0|             0.0|             0|             0|     M|               1|           mr|             True|     3206|           106.87|            8.91|            3803|\n|    1913454500|user|         US| Etats-Unis|      en|                3|              8|                 16|             0|           0|             0.0|             0|             1|     M|               1|           mr|             True|     3206|           106.87|            8.91|            3803|\n|    1912864676|user|         US| Etats-Unis|      en|                4|              8|                  0|             0|           0|             0.0|             0|             0|     M|               1|           mr|             True|     3206|           106.87|            8.91|            3803|\n+--------------+----+-----------+-----------+--------+-----------------+---------------+-------------------+--------------+------------+----------------+--------------+--------------+------+----------------+-------------+-----------------+---------+-----------------+----------------+----------------+\nonly showing top 20 rows\n\n"
     ]
    }
   ],
   "source": [
    "userDF.withColumn(\"countrycode\", upper(col(\"countrycode\"))).show()"
   ]
  },
  {
   "cell_type": "code",
   "execution_count": 0,
   "metadata": {
    "application/vnd.databricks.v1+cell": {
     "cellMetadata": {
      "byteLimit": 2048000,
      "rowLimit": 10000
     },
     "inputWidgets": {},
     "nuid": "c5a183b9-d48c-4280-b434-54c66ceb4e64",
     "showTitle": false,
     "title": ""
    }
   },
   "outputs": [],
   "source": [
    "from pyspark.sql import functions as F\n",
    "\n",
    "# Assuming userDF is your original DataFrame\n",
    "userDF = userDF.withColumn(\n",
    "    \"language_full\",\n",
    "    F.expr(\"\"\"\n",
    "        CASE \n",
    "            WHEN language = 'EN' THEN 'ENGLISH'\n",
    "            WHEN language = 'FR' THEN 'FRENCH'\n",
    "            ELSE 'other' \n",
    "        END\n",
    "    \"\"\")\n",
    ")\n"
   ]
  },
  {
   "cell_type": "code",
   "execution_count": 0,
   "metadata": {
    "application/vnd.databricks.v1+cell": {
     "cellMetadata": {
      "byteLimit": 2048000,
      "rowLimit": 10000
     },
     "inputWidgets": {},
     "nuid": "f6a0b4cd-e7bd-4485-b03b-74c95a89d36a",
     "showTitle": false,
     "title": ""
    }
   },
   "outputs": [],
   "source": [
    "userDF = userDF.withColumn(\"gender\", when(col(\"gender\").startswith(\"M\"), \"Male\")\n",
    "                           .when(col(\"gender\").startswith(\"F\"), \"Female\")\n",
    "                           .otherwise(\"other\"))"
   ]
  },
  {
   "cell_type": "code",
   "execution_count": 0,
   "metadata": {
    "application/vnd.databricks.v1+cell": {
     "cellMetadata": {
      "byteLimit": 2048000,
      "rowLimit": 10000
     },
     "inputWidgets": {},
     "nuid": "c459082e-0520-44ab-8a2c-5832eb40c04d",
     "showTitle": false,
     "title": ""
    }
   },
   "outputs": [],
   "source": [
    "userDF = userDF.withColumn(\"civilitytitle_clean\", regexp_replace(\"civilitytitle\", \"(Mme|Ms|Mrs)\",\"Ms\"))"
   ]
  },
  {
   "cell_type": "code",
   "execution_count": 0,
   "metadata": {
    "application/vnd.databricks.v1+cell": {
     "cellMetadata": {},
     "inputWidgets": {},
     "nuid": "5d30c714-9d46-4ed8-a500-868f0abb3794",
     "showTitle": false,
     "title": ""
    }
   },
   "outputs": [],
   "source": [
    "userDF = userDF.withColumn(\"years_since_last_login\", col(\"dayssincelastlogin\") / 365)"
   ]
  },
  {
   "cell_type": "code",
   "execution_count": 0,
   "metadata": {
    "application/vnd.databricks.v1+cell": {
     "cellMetadata": {
      "byteLimit": 2048000,
      "rowLimit": 10000
     },
     "inputWidgets": {},
     "nuid": "b4b0d8c9-6ed1-4fe9-8f31-93465afed75c",
     "showTitle": false,
     "title": ""
    }
   },
   "outputs": [],
   "source": [
    "userDF = userDF.withColumn(\"account_age_years\", round(col(\"seniority\") / 365,2))\n",
    "userDF = userDF.withColumn(\"account_age_group\",\n",
    "                           when(col(\"account_age_years\")<1 , \"New\")\n",
    "                           .when((col(\"account_age_years\") >=1 ) & (col(\"account_age_years\")<3), \"Intermediate\")\n",
    "                           .otherwise(\"Experienced\"))"
   ]
  },
  {
   "cell_type": "code",
   "execution_count": 0,
   "metadata": {
    "application/vnd.databricks.v1+cell": {
     "cellMetadata": {
      "byteLimit": 2048000,
      "rowLimit": 10000
     },
     "inputWidgets": {},
     "nuid": "d446ed82-697e-4b75-8fed-95859645ed02",
     "showTitle": false,
     "title": ""
    }
   },
   "outputs": [],
   "source": [
    "userDF = userDF.withColumn(\"current_year\", year(current_date()))"
   ]
  },
  {
   "cell_type": "code",
   "execution_count": 0,
   "metadata": {
    "application/vnd.databricks.v1+cell": {
     "cellMetadata": {
      "byteLimit": 2048000,
      "rowLimit": 10000
     },
     "inputWidgets": {},
     "nuid": "3233e460-97f6-45df-a60e-22936259d3ac",
     "showTitle": false,
     "title": ""
    }
   },
   "outputs": [],
   "source": [
    "userDF = userDF.withColumn(\"user_descriptor\",\n",
    "                            concat(col(\"gender\"), lit(\"_\"),\n",
    "                                    col(\"countrycode\"), lit(\"_\"),\n",
    "                                    expr(\"substring(civilitytitle_clean,1,3)\"),lit(\"_\"),\n",
    "                                    col(\"language_full\")))"
   ]
  },
  {
   "cell_type": "code",
   "execution_count": 0,
   "metadata": {
    "application/vnd.databricks.v1+cell": {
     "cellMetadata": {
      "byteLimit": 2048000,
      "rowLimit": 10000
     },
     "inputWidgets": {},
     "nuid": "a508c61b-564e-4691-8cf5-1b8c7730adc5",
     "showTitle": false,
     "title": ""
    }
   },
   "outputs": [],
   "source": [
    "userDF = userDF.withColumn(\"flag_long_title\", length(col(\"civilitytitle\")) > 10)"
   ]
  },
  {
   "cell_type": "code",
   "execution_count": 0,
   "metadata": {
    "application/vnd.databricks.v1+cell": {
     "cellMetadata": {
      "byteLimit": 2048000,
      "rowLimit": 10000
     },
     "inputWidgets": {},
     "nuid": "fcc893e5-0515-4a44-927e-436d8a375545",
     "showTitle": false,
     "title": ""
    }
   },
   "outputs": [],
   "source": [
    "userDF = userDF.withColumn(\"socialnbfollowers\", col(\"socialnbfollowers\").cast(IntegerType()))\n",
    "userDF = userDF.withColumn(\"socialnbfollows\", col(\"socialnbfollows\").cast(IntegerType()))\n",
    "\n",
    "userDF = userDF.withColumn(\"productspassrate\", col(\"productspassrate\").cast(DecimalType(10, 2)))\n",
    "userDF = userDF.withColumn(\"seniorityasmonths\", col(\"seniorityasmonths\").cast(DecimalType(10, 2)))\n",
    "userDF = userDF.withColumn(\"seniorityasyears\", col(\"seniorityasyears\").cast(DecimalType(10, 2)))"
   ]
  },
  {
   "cell_type": "code",
   "execution_count": 0,
   "metadata": {
    "application/vnd.databricks.v1+cell": {
     "cellMetadata": {
      "byteLimit": 2048000,
      "rowLimit": 10000
     },
     "inputWidgets": {},
     "nuid": "e7ffc745-d253-497a-b11f-8831f1c089c9",
     "showTitle": false,
     "title": ""
    }
   },
   "outputs": [],
   "source": [
    "userDF.write.format(\"delta\").mode(\"overwrite\").save(\"/mnt/delta/tables/silver/user\")"
   ]
  },
  {
   "cell_type": "code",
   "execution_count": 0,
   "metadata": {
    "application/vnd.databricks.v1+cell": {
     "cellMetadata": {
      "byteLimit": 2048000,
      "rowLimit": 10000
     },
     "inputWidgets": {},
     "nuid": "2bb59b6e-9842-4257-b19b-81b844bff885",
     "showTitle": false,
     "title": ""
    }
   },
   "outputs": [],
   "source": [
    "\n",
    "#/mnt/delta/tables/bronze/users\n",
    "buyersDF = spark.read.format(\"delta\").load(\"/mnt/delta/tables/bronze/buyers\")"
   ]
  },
  {
   "cell_type": "code",
   "execution_count": 0,
   "metadata": {
    "application/vnd.databricks.v1+cell": {
     "cellMetadata": {
      "byteLimit": 2048000,
      "rowLimit": 10000
     },
     "inputWidgets": {},
     "nuid": "21bdee39-fe7e-4246-a32f-0cb42fa1c6bd",
     "showTitle": false,
     "title": ""
    }
   },
   "outputs": [],
   "source": [
    "# Casting Integer columns\n",
    "integer_columns = [\n",
    "    'buyers', 'topbuyers', 'femalebuyers', 'malebuyers',\n",
    "    'topfemalebuyers', 'topmalebuyers', 'totalproductsbought',\n",
    "    'totalproductswished', 'totalproductsliked', 'toptotalproductsbought',\n",
    "    'toptotalproductswished', 'toptotalproductsliked'\n",
    "]\n",
    "\n",
    "for column_name in integer_columns:\n",
    "    buyersDF = buyersDF.withColumn(column_name, col(column_name).cast(IntegerType()))"
   ]
  },
  {
   "cell_type": "code",
   "execution_count": 0,
   "metadata": {
    "application/vnd.databricks.v1+cell": {
     "cellMetadata": {
      "byteLimit": 2048000,
      "rowLimit": 10000
     },
     "inputWidgets": {},
     "nuid": "8465cdd2-bc74-4dbc-bda0-1e2e4ad02a74",
     "showTitle": false,
     "title": ""
    }
   },
   "outputs": [],
   "source": [
    "\n",
    "# Casting Decimal columns\n",
    "decimal_columns = [\n",
    "    'topbuyerratio', 'femalebuyersratio', 'topfemalebuyersratio',\n",
    "    'boughtperwishlistratio', 'boughtperlikeratio', 'topboughtperwishlistratio',\n",
    "    'topboughtperlikeratio', 'meanproductsbought', 'meanproductswished',\n",
    "    'meanproductsliked', 'topmeanproductsbought', 'topmeanproductswished',\n",
    "    'topmeanproductsliked', 'meanofflinedays', 'topmeanofflinedays',\n",
    "    'meanfollowers', 'meanfollowing', 'topmeanfollowers', 'topmeanfollowing'\n",
    "]\n",
    "\n",
    "for column_name in decimal_columns:\n",
    "    buyersDF = buyersDF.withColumn(column_name, col(column_name).cast(DecimalType(10, 2)))"
   ]
  },
  {
   "cell_type": "code",
   "execution_count": 0,
   "metadata": {
    "application/vnd.databricks.v1+cell": {
     "cellMetadata": {
      "byteLimit": 2048000,
      "rowLimit": 10000
     },
     "inputWidgets": {},
     "nuid": "f7d545d9-bc37-45a8-9f62-45caff3340a0",
     "showTitle": false,
     "title": ""
    }
   },
   "outputs": [],
   "source": [
    "\n",
    "# Normalize country names\n",
    "buyersDF = buyersDF.withColumn(\"country\", initcap(col(\"country\")))\n",
    "\n",
    "for col_name in integer_columns:\n",
    "    buyersDF = buyersDF.fillna({col_name: 0})\n",
    "\n",
    "# Calculate the ratio of female to male buyers\n",
    "buyersDF = buyersDF.withColumn(\"female_to_male_ratio\", \n",
    "                               round(col(\"femalebuyers\") / (col(\"malebuyers\") + 1), 2))\n",
    "\n",
    "# Determine the market potential by comparing wishlist and purchases\n",
    "buyersDF = buyersDF.withColumn(\"wishlist_to_purchase_ratio\", \n",
    "                               round(col(\"totalproductswished\") / (col(\"totalproductsbought\") + 1), 2))\n",
    "\n",
    "# Tag countries with a high engagement ratio\n",
    "high_engagement_threshold = 0.5\n",
    "buyersDF = buyersDF.withColumn(\"high_engagement\",\n",
    "                               when(col(\"boughtperwishlistratio\") > high_engagement_threshold, True)\n",
    "                               .otherwise(False))\n",
    "                               \n",
    "    # Flag markets with increasing female buyer participation\n",
    "buyersDF = buyersDF.withColumn(\"growing_female_market\",\n",
    "                               when(col(\"femalebuyersratio\") > col(\"topfemalebuyersratio\"), True)\n",
    "                               .otherwise(False))"
   ]
  },
  {
   "cell_type": "code",
   "execution_count": 0,
   "metadata": {
    "application/vnd.databricks.v1+cell": {
     "cellMetadata": {
      "byteLimit": 2048000,
      "rowLimit": 10000
     },
     "inputWidgets": {},
     "nuid": "a5ebef51-537c-490e-8d16-4c27a46f6b45",
     "showTitle": false,
     "title": ""
    }
   },
   "outputs": [],
   "source": [
    "buyersDF.write.format(\"delta\").mode(\"overwrite\").save(\"/mnt/delta/tables/silver/buyers\")"
   ]
  },
  {
   "cell_type": "code",
   "execution_count": 0,
   "metadata": {
    "application/vnd.databricks.v1+cell": {
     "cellMetadata": {
      "byteLimit": 2048000,
      "rowLimit": 10000
     },
     "inputWidgets": {},
     "nuid": "c199d9ff-d3f8-446b-9bea-900bdba68800",
     "showTitle": false,
     "title": ""
    }
   },
   "outputs": [],
   "source": [
    "sellersDF = spark.read.format(\"delta\").load(\"/mnt/delta/tables/bronze/sellers\")"
   ]
  },
  {
   "cell_type": "code",
   "execution_count": 0,
   "metadata": {
    "application/vnd.databricks.v1+cell": {
     "cellMetadata": {
      "byteLimit": 2048000,
      "rowLimit": 10000
     },
     "inputWidgets": {},
     "nuid": "1fd496db-fe0b-4942-9d2e-7c82631cab0c",
     "showTitle": false,
     "title": ""
    }
   },
   "outputs": [],
   "source": [
    "sellersDF = sellersDF \\\n",
    "    .withColumn(\"nbsellers\", col(\"nbsellers\").cast(IntegerType())) \\\n",
    "    .withColumn(\"meanproductssold\", col(\"meanproductssold\").cast(DecimalType(10, 2))) \\\n",
    "    .withColumn(\"meanproductslisted\", col(\"meanproductslisted\").cast(DecimalType(10, 2))) \\\n",
    "    .withColumn(\"meansellerpassrate\", col(\"meansellerpassrate\").cast(DecimalType(10, 2))) \\\n",
    "    .withColumn(\"totalproductssold\", col(\"totalproductssold\").cast(IntegerType())) \\\n",
    "    .withColumn(\"totalproductslisted\", col(\"totalproductslisted\").cast(IntegerType())) \\\n",
    "    .withColumn(\"meanproductsbought\", col(\"meanproductsbought\").cast(DecimalType(10, 2))) \\\n",
    "    .withColumn(\"meanproductswished\", col(\"meanproductswished\").cast(DecimalType(10, 2))) \\\n",
    "    .withColumn(\"meanproductsliked\", col(\"meanproductsliked\").cast(DecimalType(10, 2))) \\\n",
    "    .withColumn(\"totalbought\", col(\"totalbought\").cast(IntegerType())) \\\n",
    "    .withColumn(\"totalwished\", col(\"totalwished\").cast(IntegerType())) \\\n",
    "    .withColumn(\"totalproductsliked\", col(\"totalproductsliked\").cast(IntegerType())) \\\n",
    "    .withColumn(\"meanfollowers\", col(\"meanfollowers\").cast(DecimalType(10, 2))) \\\n",
    "    .withColumn(\"meanfollows\", col(\"meanfollows\").cast(DecimalType(10, 2))) \\\n",
    "    .withColumn(\"percentofappusers\", col(\"percentofappusers\").cast(DecimalType(10, 2))) \\\n",
    "    .withColumn(\"percentofiosusers\", col(\"percentofiosusers\").cast(DecimalType(10, 2))) \\\n",
    "    .withColumn(\"meanseniority\", col(\"meanseniority\").cast(DecimalType(10, 2)))"
   ]
  },
  {
   "cell_type": "code",
   "execution_count": 0,
   "metadata": {
    "application/vnd.databricks.v1+cell": {
     "cellMetadata": {
      "byteLimit": 2048000,
      "rowLimit": 10000
     },
     "inputWidgets": {},
     "nuid": "cb07d198-2193-4d46-9cff-3adff0ed1ee8",
     "showTitle": false,
     "title": ""
    }
   },
   "outputs": [],
   "source": [
    "\n",
    "\n",
    "# Normalize country names and gender values\n",
    "sellersDF = sellersDF.withColumn(\"country\", initcap(col(\"country\"))) \\\n",
    "                                                .withColumn(\"sex\", upper(col(\"sex\")))\n",
    "\n",
    "\n",
    "#Add a column to categorize the number of sellers\n",
    "sellersDF = sellersDF.withColumn(\"seller_size_category\", \n",
    "                               when(col(\"nbsellers\") < 500, \"Small\") \\\n",
    "                               .when((col(\"nbsellers\") >= 500) & (col(\"nbsellers\") < 2000), \"Medium\") \\\n",
    "                               .otherwise(\"Large\"))\n",
    "\n",
    "# Calculate the mean products listed per seller as an indicator of seller activity\n",
    "sellersDF = sellersDF.withColumn(\"mean_products_listed_per_seller\", \n",
    "                               round(col(\"totalproductslisted\") / col(\"nbsellers\"), 2))\n",
    "\n",
    "# Identify markets with high seller pass rate\n",
    "sellersDF = sellersDF.withColumn(\"high_seller_pass_rate\", \n",
    "                               when(col(\"meansellerpassrate\") > 0.75, \"High\") \\\n",
    "                               .otherwise(\"Normal\"))\n",
    "\n",
    "mean_pass_rate = sellersDF.select(round(avg(\"meansellerpassrate\"), 2).alias(\"avg_pass_rate\")).collect()[0][\"avg_pass_rate\"]\n",
    "\n",
    "sellersDF = sellersDF.withColumn(\"meansellerpassrate\",\n",
    "                                 when(col(\"meansellerpassrate\").isNull(), mean_pass_rate)\n",
    "                                 .otherwise(col(\"meansellerpassrate\")))\n",
    "\n",
    "sellersDF.write.format(\"delta\").mode(\"overwrite\").save(\"/mnt/delta/tables/silver/sellers\")"
   ]
  },
  {
   "cell_type": "code",
   "execution_count": 0,
   "metadata": {
    "application/vnd.databricks.v1+cell": {
     "cellMetadata": {
      "byteLimit": 2048000,
      "rowLimit": 10000
     },
     "inputWidgets": {},
     "nuid": "0465d9cd-ecba-4d62-a343-90c4668b9400",
     "showTitle": false,
     "title": ""
    }
   },
   "outputs": [],
   "source": [
    "countriesDF = spark.read.format(\"delta\").load(\"/mnt/delta/tables/bronze/countires\")"
   ]
  },
  {
   "cell_type": "code",
   "execution_count": 0,
   "metadata": {
    "application/vnd.databricks.v1+cell": {
     "cellMetadata": {
      "byteLimit": 2048000,
      "rowLimit": 10000
     },
     "inputWidgets": {},
     "nuid": "6a415d68-39ca-4de0-bdfb-e800d3a1f37f",
     "showTitle": false,
     "title": ""
    }
   },
   "outputs": [],
   "source": [
    "countriesDF = countriesDF \\\n",
    "    .withColumn(\"sellers\", col(\"sellers\").cast(IntegerType())) \\\n",
    "    .withColumn(\"topsellers\", col(\"topsellers\").cast(IntegerType())) \\\n",
    "    .withColumn(\"topsellerratio\", col(\"topsellerratio\").cast(DecimalType(10, 2))) \\\n",
    "    .withColumn(\"femalesellersratio\", col(\"femalesellersratio\").cast(DecimalType(10, 2))) \\\n",
    "    .withColumn(\"topfemalesellersratio\", col(\"topfemalesellersratio\").cast(DecimalType(10, 2))) \\\n",
    "    .withColumn(\"femalesellers\", col(\"femalesellers\").cast(IntegerType())) \\\n",
    "    .withColumn(\"malesellers\", col(\"malesellers\").cast(IntegerType())) \\\n",
    "    .withColumn(\"topfemalesellers\", col(\"topfemalesellers\").cast(IntegerType())) \\\n",
    "    .withColumn(\"topmalesellers\", col(\"topmalesellers\").cast(IntegerType())) \\\n",
    "    .withColumn(\"countrysoldratio\", col(\"countrysoldratio\").cast(DecimalType(10, 2))) \\\n",
    "    .withColumn(\"bestsoldratio\", col(\"bestsoldratio\").cast(DecimalType(10, 2))) \\\n",
    "    .withColumn(\"toptotalproductssold\", col(\"toptotalproductssold\").cast(IntegerType())) \\\n",
    "    .withColumn(\"totalproductssold\", col(\"totalproductssold\").cast(IntegerType())) \\\n",
    "    .withColumn(\"toptotalproductslisted\", col(\"toptotalproductslisted\").cast(IntegerType())) \\\n",
    "    .withColumn(\"totalproductslisted\", col(\"totalproductslisted\").cast(IntegerType())) \\\n",
    "    .withColumn(\"topmeanproductssold\", col(\"topmeanproductssold\").cast(DecimalType(10, 2))) \\\n",
    "    .withColumn(\"topmeanproductslisted\", col(\"topmeanproductslisted\").cast(DecimalType(10, 2))) \\\n",
    "    .withColumn(\"meanproductssold\", col(\"meanproductssold\").cast(DecimalType(10, 2))) \\\n",
    "    .withColumn(\"meanproductslisted\", col(\"meanproductslisted\").cast(DecimalType(10, 2))) \\\n",
    "    .withColumn(\"meanofflinedays\", col(\"meanofflinedays\").cast(DecimalType(10, 2))) \\\n",
    "    .withColumn(\"topmeanofflinedays\", col(\"topmeanofflinedays\").cast(DecimalType(10, 2))) \\\n",
    "    .withColumn(\"meanfollowers\", col(\"meanfollowers\").cast(DecimalType(10, 2))) \\\n",
    "    .withColumn(\"meanfollowing\", col(\"meanfollowing\").cast(DecimalType(10, 2))) \\\n",
    "    .withColumn(\"topmeanfollowers\", col(\"topmeanfollowers\").cast(DecimalType(10, 2))) \\\n",
    "    .withColumn(\"topmeanfollowing\", col(\"topmeanfollowing\").cast(DecimalType(10, 2)))"
   ]
  },
  {
   "cell_type": "code",
   "execution_count": 0,
   "metadata": {
    "application/vnd.databricks.v1+cell": {
     "cellMetadata": {
      "byteLimit": 2048000,
      "rowLimit": 10000
     },
     "inputWidgets": {},
     "nuid": "b2a2b5aa-727e-4c2e-bcc9-a7ccf093ec40",
     "showTitle": false,
     "title": ""
    }
   },
   "outputs": [],
   "source": [
    "countriesDF = countriesDF.withColumn(\"country\", initcap(col(\"country\")))\n",
    "\n",
    "\n",
    "# Calculating the ratio of top sellers to total sellers\n",
    "countriesDF = countriesDF.withColumn(\"top_seller_ratio\", \n",
    "                                        round(col(\"topsellers\") / col(\"sellers\"), 2))\n",
    "\n",
    "# countriesDF countries with a high ratio of female sellers\n",
    "countriesDF = countriesDF.withColumn(\"high_female_seller_ratio\", \n",
    "                                        when(col(\"femalesellersratio\") > 0.5, True).otherwise(False))\n",
    "\n",
    "# Adding a performance indicator based on the sold/listed ratio\n",
    "countriesDF = countriesDF.withColumn(\"performance_indicator\", \n",
    "                                        round(col(\"toptotalproductssold\") / (col(\"toptotalproductslisted\") + 1), 2))\n",
    "\n",
    "# Flag countries with exceptionally high performance\n",
    "performance_threshold = 0.8\n",
    "countriesDF = countriesDF.withColumn(\"high_performance\", \n",
    "                                        when(col(\"performance_indicator\") > performance_threshold, True).otherwise(False))\n",
    "\n",
    "countriesDF = countriesDF.withColumn(\"activity_level\",\n",
    "                                       when(col(\"meanofflinedays\") < 30, \"Highly Active\")\n",
    "                                       .when((col(\"meanofflinedays\") >= 30) & (col(\"meanofflinedays\") < 60), \"Moderately Active\")\n",
    "                                       .otherwise(\"Low Activity\"))"
   ]
  },
  {
   "cell_type": "code",
   "execution_count": 0,
   "metadata": {
    "application/vnd.databricks.v1+cell": {
     "cellMetadata": {
      "byteLimit": 2048000,
      "rowLimit": 10000
     },
     "inputWidgets": {},
     "nuid": "40c2e551-0188-47d7-8d2a-252a472af00e",
     "showTitle": false,
     "title": ""
    }
   },
   "outputs": [],
   "source": [
    "countriesDF.write.format(\"delta\").mode(\"overwrite\").save(\"/mnt/delta/tables/silver/countries\")"
   ]
  }
 ],
 "metadata": {
  "application/vnd.databricks.v1+notebook": {
   "dashboards": [],
   "language": "python",
   "notebookMetadata": {
    "pythonIndentUnit": 4
   },
   "notebookName": "Silver_Layer",
   "widgets": {}
  }
 },
 "nbformat": 4,
 "nbformat_minor": 0
}
